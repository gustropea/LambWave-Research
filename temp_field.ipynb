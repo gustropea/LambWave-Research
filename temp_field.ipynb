{
 "cells": [
  {
   "cell_type": "markdown",
   "id": "c926f905",
   "metadata": {},
   "source": [
    "# Finding an Atmospheric Equivelent for Ocean Depth From Global Temperature Data\n",
    "\n",
    "\n",
    "## Tempature is Equivelent to Ocean Depth\n",
    "\n",
    "Due to the fact that tempature changes in the atmosphere depending on hieght, we can say that tempature is analogous to ocean depth. We can demonstrate this through the process of simple unit analysis. We know that the phase velocity of an ocean wave used for shallow water models is $$c =\\sqrt{gH} $$ where $g$ is gravity and $H$ is the depth of the ocean in meters. So then in terms of units we can see that $$c=\\sqrt{\\frac{m}{s^2}\\cdot m}=\\sqrt{\\frac{m^2}{s^2}}=\\frac{m}{s}.$$ Since the lamb wave is traveling through air we can use the ideal gas law to get the equation for phase velocity $$c=\\sqrt{\\frac{\\lambda R T}{M}}$$ where $\\lambda$ is the ratio of specific heat of air (unitless), $R$ is the gas constant, $T$ is temperature, and $M$ is the molecular mass of dry air. It turns out this is the speed of soud dependant on temperature. Now representing this same equaiton in terms of units we get $$c=\\sqrt{\\frac{\\frac{j}{kmol\\cdot k}\\cdot k}{\\frac{kg}{kmol}}}=\\sqrt{\\frac{j}{kmol}\\cdot\\frac{kmol}{kg}}=\\sqrt{\\frac{j}{kg}}=\\sqrt{\\frac{kg\\cdot\\frac{m^2}{s^2}}{kg}}=\\sqrt{\\frac{m^2}{s^2}}=\\frac{m}{s}.$$ Now that we have confirmed that these two equations are analogous we can set them equal to each other and get an equation for $H$\n",
    "\\begin{align*}\n",
    "\t\\sqrt{gH}&=\\sqrt{\\frac{\\lambda R T}{M}}\\\\\n",
    "\t\\left(\\sqrt{gH}\\right)^2&=\\left(\\sqrt{\\frac{\\lambda R T}{M}}\\right)^2\\\\\n",
    "\tgH&=\\frac{\\lambda R T}{M}\\\\\n",
    "\tH&=\\frac{\\lambda R T}{Mg}.\\\\\n",
    "\\end{align*}\n",
    "\n",
    "## Vertical Integration\n",
    "\n",
    "We have shown that temperature in the atmosphere is simalar to ocean depth. Now we must verticaly integrate using the temperature data that is available. \n",
    "\n",
    "### The Data\n",
    "\n",
    "The paper uses two temperature readings over the 5 day time period. The first temperature reading was taken from 2m above the earths surface, and the second taken from 100hpa in the atmosphere. These readings are represented in two different datasets. We are interested in the temperature data between 1/15/2022 04:00 UTC and 1/20/2023 04:00 UTC. \n",
    "\n",
    "#### Dataset 1 - 2m_temp [\\(source\\)](https://cds.climate.copernicus.eu/cdsapp#!/dataset/reanalysis-era5-single-levels?tab=overview)"
   ]
  },
  {
   "cell_type": "code",
   "execution_count": null,
   "id": "022219cb",
   "metadata": {},
   "outputs": [],
   "source": [
    "Format:\n",
    "           64bit\n",
    "Global Attributes:\n",
    "           Conventions = 'CF-1.6'\n",
    "           history     = '2023-11-22 19:49:20 GMT by grib_to_netcdf-2.25.1: /opt/ecmwf/mars-client/bin/grib_to_netcdf.bin -S param -o /cache/data4/adaptor.mars.internal-1700682557.6015723-18820-19-ca915318-df34-48fd-ac02-a7d15d0d1707.nc /cache/tmp/ca915318-df34-48fd-ac02-a7d15d0d1707-adaptor.mars.internal-1700682551.175844-18820-24-tmp.grib'\n",
    "Dimensions:\n",
    "           longitude = 1440\n",
    "           latitude  = 721\n",
    "           time      = 144\n",
    "Variables:\n",
    "    longitude\n",
    "           Size:       1440x1\n",
    "           Dimensions: longitude\n",
    "           Datatype:   single\n",
    "           Attributes:\n",
    "                       units     = 'degrees_east'\n",
    "                       long_name = 'longitude'\n",
    "    latitude \n",
    "           Size:       721x1\n",
    "           Dimensions: latitude\n",
    "           Datatype:   single\n",
    "           Attributes:\n",
    "                       units     = 'degrees_north'\n",
    "                       long_name = 'latitude'\n",
    "    time     \n",
    "           Size:       144x1\n",
    "           Dimensions: time\n",
    "           Datatype:   int32\n",
    "           Attributes:\n",
    "                       units     = 'hours since 1900-01-01 00:00:00.0'\n",
    "                       long_name = 'time'\n",
    "                       calendar  = 'gregorian'\n",
    "    t2m      \n",
    "           Size:       1440x721x144\n",
    "           Dimensions: longitude,latitude,time\n",
    "           Datatype:   int16\n",
    "           Attributes:\n",
    "                       scale_factor  = 0.0015576\n",
    "                       add_offset    = 270.4506\n",
    "                       _FillValue    = -32767\n",
    "                       missing_value = -32767\n",
    "                       units         = 'K'\n",
    "                       long_name     = '2 metre temperature'\n"
   ]
  },
  {
   "cell_type": "markdown",
   "id": "360bc1eb",
   "metadata": {},
   "source": [
    "#### Dataset 2 - 100hpa_temp [\\(source\\)](https://cds.climate.copernicus.eu/cdsapp#!/dataset/10.24381/cds.bd0915c6?tab=overview)"
   ]
  },
  {
   "cell_type": "code",
   "execution_count": null,
   "id": "e7c2ebf4",
   "metadata": {},
   "outputs": [],
   "source": [
    "Format:\n",
    "           64bit\n",
    "Global Attributes:\n",
    "           Conventions = 'CF-1.6'\n",
    "           history     = '2023-11-22 19:54:34 GMT by grib_to_netcdf-2.25.1: /opt/ecmwf/mars-client/bin/grib_to_netcdf.bin -S param -o /cache/data5/adaptor.mars.internal-1700682872.426379-13588-7-fda3f987-c8ac-4af4-9adf-8ec8b99987f4.nc /cache/tmp/fda3f987-c8ac-4af4-9adf-8ec8b99987f4-adaptor.mars.internal-1700682863.0318437-13588-9-tmp.grib'\n",
    "Dimensions:\n",
    "           longitude = 1440\n",
    "           latitude  = 721\n",
    "           time      = 144\n",
    "Variables:\n",
    "    longitude\n",
    "           Size:       1440x1\n",
    "           Dimensions: longitude\n",
    "           Datatype:   single\n",
    "           Attributes:\n",
    "                       units     = 'degrees_east'\n",
    "                       long_name = 'longitude'\n",
    "    latitude \n",
    "           Size:       721x1\n",
    "           Dimensions: latitude\n",
    "           Datatype:   single\n",
    "           Attributes:\n",
    "                       units     = 'degrees_north'\n",
    "                       long_name = 'latitude'\n",
    "    time     \n",
    "           Size:       144x1\n",
    "           Dimensions: time\n",
    "           Datatype:   int32\n",
    "           Attributes:\n",
    "                       units     = 'hours since 1900-01-01 00:00:00.0'\n",
    "                       long_name = 'time'\n",
    "                       calendar  = 'gregorian'\n",
    "    t        \n",
    "           Size:       1440x721x144\n",
    "           Dimensions: longitude,latitude,time\n",
    "           Datatype:   int16\n",
    "           Attributes:\n",
    "                       scale_factor  = 0.00082152\n",
    "                       add_offset    = 208.7843\n",
    "                       _FillValue    = -32767\n",
    "                       missing_value = -32767\n",
    "                       units         = 'K'\n",
    "                       long_name     = 'Temperature'\n",
    "                       standard_name = 'air_temperature'"
   ]
  },
  {
   "cell_type": "markdown",
   "id": "4d11ed83",
   "metadata": {},
   "source": [
    "To perform something close to vertical integration we will take the average of the two temperature readings as our \"depth\". This is demonstrated in the figure below.\n",
    "![Figure 1](t0.png \"Figure 1\")\n",
    "\n",
    "We can then take the average over the five day period to get an overall average \"depth\" using a one-hour time step. This result is shown in the figure below.\n",
    "\n",
    "![Figure 2](avgdepth.png \"Figure 2\")\n",
    "\n",
    "From this we can take the average of the five day tempature from around the world to get a value for $T$. Then pluging $T$ into our above equation we can get an estimate for $H$."
   ]
  },
  {
   "cell_type": "code",
   "execution_count": 1,
   "id": "78d5bc4d",
   "metadata": {},
   "outputs": [
    {
     "name": "stdout",
     "output_type": "stream",
     "text": [
      "Equivalent Ocean Depth: 10.034016719822592 km\n"
     ]
    }
   ],
   "source": [
    "#Calculate equivalent ocean depth\n",
    "T = 244.9489 #k average of tempature depth field\n",
    "lmbda = 1.4 # ratio of specific heat of air corresponding to the range of atmospheric temperatures\n",
    "R = 8314.36 # j kmol^(-1) k^(-1) universal gas constant\n",
    "M = 28.966 # kg kmol^(−1) molecular mass for dry air\n",
    "g = 9.81 # m s^(-2)\n",
    "H = (lmbda*R*T)/(M*g) # m equivalent ocean depth\n",
    "H = H/1000 # km equivelent ocean depth\n",
    "print(\"Equivalent Ocean Depth: \"+str(H)+\" km\")"
   ]
  },
  {
   "cell_type": "code",
   "execution_count": null,
   "id": "a0edd1a9",
   "metadata": {},
   "outputs": [],
   "source": []
  }
 ],
 "metadata": {
  "kernelspec": {
   "display_name": "Python 3 (ipykernel)",
   "language": "python",
   "name": "python3"
  },
  "language_info": {
   "codemirror_mode": {
    "name": "ipython",
    "version": 3
   },
   "file_extension": ".py",
   "mimetype": "text/x-python",
   "name": "python",
   "nbconvert_exporter": "python",
   "pygments_lexer": "ipython3",
   "version": "3.11.5"
  }
 },
 "nbformat": 4,
 "nbformat_minor": 5
}
